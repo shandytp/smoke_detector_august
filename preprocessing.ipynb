{
 "cells": [
  {
   "cell_type": "markdown",
   "metadata": {},
   "source": [
    "## 1. Load Required Libraries"
   ]
  },
  {
   "cell_type": "code",
   "execution_count": 128,
   "metadata": {},
   "outputs": [],
   "source": [
    "import src.util as utils\n",
    "import pandas as pd\n",
    "from imblearn.under_sampling import RandomUnderSampler"
   ]
  },
  {
   "cell_type": "markdown",
   "metadata": {},
   "source": [
    "## 2. Load Configuration File"
   ]
  },
  {
   "cell_type": "code",
   "execution_count": 129,
   "metadata": {},
   "outputs": [],
   "source": [
    "config = utils.load_config()"
   ]
  },
  {
   "cell_type": "markdown",
   "metadata": {},
   "source": [
    "## 3. Load Dataset"
   ]
  },
  {
   "cell_type": "code",
   "execution_count": 130,
   "metadata": {},
   "outputs": [],
   "source": [
    "def load_dataset(config_data: dict):\n",
    "    # Load every set of data\n",
    "    x_train = utils.pickle_load(config_data[\"train_set_path\"][0])\n",
    "    y_train = utils.pickle_load(config_data[\"train_set_path\"][1])\n",
    "\n",
    "    x_valid = utils.pickle_load(config_data[\"valid_set_path\"][0])\n",
    "    y_valid = utils.pickle_load(config_data[\"valid_set_path\"][1])\n",
    "\n",
    "    x_test = utils.pickle_load(config_data[\"test_set_path\"][0])\n",
    "    y_test = utils.pickle_load(config_data[\"test_set_path\"][1])\n",
    "\n",
    "    # Concatenate x and y each set\n",
    "    train_set = pd.concat([x_train, y_train], axis = 1)\n",
    "    valid_set = pd.concat([x_valid, y_valid], axis = 1)\n",
    "    test_set = pd.concat([x_test, y_test], axis = 1)\n",
    "\n",
    "    # Return 3 set of data\n",
    "    return train_set, valid_set, test_set"
   ]
  },
  {
   "cell_type": "code",
   "execution_count": 131,
   "metadata": {},
   "outputs": [],
   "source": [
    "train_set, valid_set, test_set = load_dataset(config)"
   ]
  },
  {
   "cell_type": "markdown",
   "metadata": {},
   "source": [
    "## 4. Balancing Train Label"
   ]
  },
  {
   "cell_type": "code",
   "execution_count": 132,
   "metadata": {},
   "outputs": [],
   "source": [
    "x_rus, y_rus = RandomUnderSampler(random_state = 42).fit_resample(\n",
    "    train_set.drop(columns = config[\"label\"]),\n",
    "    train_set[config[\"label\"]]\n",
    ")\n",
    "train_set_bal = pd.concat([x_rus, y_rus], axis = 1)"
   ]
  },
  {
   "cell_type": "markdown",
   "metadata": {},
   "source": [
    "## 5. Removing Outliers"
   ]
  },
  {
   "cell_type": "code",
   "execution_count": 133,
   "metadata": {},
   "outputs": [],
   "source": [
    "def remove_outliers(set_data):\n",
    "    set_data = set_data.copy()\n",
    "    list_of_set_data = list()\n",
    "\n",
    "    for col_name in set_data.columns[:-1]:\n",
    "        q1 = set_data[col_name].quantile(0.25)\n",
    "        q3 = set_data[col_name].quantile(0.75)\n",
    "        iqr = q3 - q1\n",
    "        set_data_cleaned = set_data[~((set_data[col_name] < (q1 - 1.5 * iqr)) | (set_data[col_name] > (q3 + 1.5 * iqr)))].copy()\n",
    "        list_of_set_data.append(set_data_cleaned.copy())\n",
    "    \n",
    "    set_data_cleaned = pd.concat(list_of_set_data)\n",
    "    count_duplicated_index = set_data_cleaned.index.value_counts()\n",
    "    used_index_data = count_duplicated_index[count_duplicated_index == (set_data.shape[1]-1)].index\n",
    "    set_data_cleaned = set_data_cleaned.loc[used_index_data].drop_duplicates()\n",
    "\n",
    "    return set_data_cleaned"
   ]
  },
  {
   "cell_type": "code",
   "execution_count": 134,
   "metadata": {},
   "outputs": [],
   "source": [
    "train_set_bal_cleaned = remove_outliers(train_set_bal)"
   ]
  },
  {
   "cell_type": "code",
   "execution_count": 135,
   "metadata": {},
   "outputs": [
    {
     "data": {
      "text/html": [
       "<div>\n",
       "<style scoped>\n",
       "    .dataframe tbody tr th:only-of-type {\n",
       "        vertical-align: middle;\n",
       "    }\n",
       "\n",
       "    .dataframe tbody tr th {\n",
       "        vertical-align: top;\n",
       "    }\n",
       "\n",
       "    .dataframe thead th {\n",
       "        text-align: right;\n",
       "    }\n",
       "</style>\n",
       "<table border=\"1\" class=\"dataframe\">\n",
       "  <thead>\n",
       "    <tr style=\"text-align: right;\">\n",
       "      <th></th>\n",
       "      <th>Temperature[C]</th>\n",
       "      <th>Humidity[%]</th>\n",
       "      <th>Pressure[hPa]</th>\n",
       "      <th>PM1.0</th>\n",
       "      <th>TVOC[ppb]</th>\n",
       "      <th>eCO2[ppm]</th>\n",
       "      <th>Raw H2</th>\n",
       "      <th>Raw Ethanol</th>\n",
       "      <th>Fire Alarm</th>\n",
       "    </tr>\n",
       "  </thead>\n",
       "  <tbody>\n",
       "    <tr>\n",
       "      <th>0</th>\n",
       "      <td>28.170</td>\n",
       "      <td>43.68</td>\n",
       "      <td>937.321</td>\n",
       "      <td>1.85</td>\n",
       "      <td>125</td>\n",
       "      <td>400</td>\n",
       "      <td>12793</td>\n",
       "      <td>20595</td>\n",
       "      <td>0</td>\n",
       "    </tr>\n",
       "    <tr>\n",
       "      <th>24184</th>\n",
       "      <td>19.584</td>\n",
       "      <td>49.22</td>\n",
       "      <td>938.715</td>\n",
       "      <td>1.58</td>\n",
       "      <td>1159</td>\n",
       "      <td>400</td>\n",
       "      <td>12933</td>\n",
       "      <td>19435</td>\n",
       "      <td>1</td>\n",
       "    </tr>\n",
       "    <tr>\n",
       "      <th>14473</th>\n",
       "      <td>24.590</td>\n",
       "      <td>53.35</td>\n",
       "      <td>938.699</td>\n",
       "      <td>1.79</td>\n",
       "      <td>1243</td>\n",
       "      <td>415</td>\n",
       "      <td>12906</td>\n",
       "      <td>19414</td>\n",
       "      <td>1</td>\n",
       "    </tr>\n",
       "    <tr>\n",
       "      <th>14472</th>\n",
       "      <td>24.570</td>\n",
       "      <td>53.35</td>\n",
       "      <td>938.740</td>\n",
       "      <td>1.57</td>\n",
       "      <td>1212</td>\n",
       "      <td>405</td>\n",
       "      <td>12898</td>\n",
       "      <td>19435</td>\n",
       "      <td>1</td>\n",
       "    </tr>\n",
       "    <tr>\n",
       "      <th>14471</th>\n",
       "      <td>12.353</td>\n",
       "      <td>51.77</td>\n",
       "      <td>938.771</td>\n",
       "      <td>1.57</td>\n",
       "      <td>1124</td>\n",
       "      <td>408</td>\n",
       "      <td>12877</td>\n",
       "      <td>19442</td>\n",
       "      <td>1</td>\n",
       "    </tr>\n",
       "    <tr>\n",
       "      <th>...</th>\n",
       "      <td>...</td>\n",
       "      <td>...</td>\n",
       "      <td>...</td>\n",
       "      <td>...</td>\n",
       "      <td>...</td>\n",
       "      <td>...</td>\n",
       "      <td>...</td>\n",
       "      <td>...</td>\n",
       "      <td>...</td>\n",
       "    </tr>\n",
       "    <tr>\n",
       "      <th>7517</th>\n",
       "      <td>26.220</td>\n",
       "      <td>46.59</td>\n",
       "      <td>937.422</td>\n",
       "      <td>1.74</td>\n",
       "      <td>75</td>\n",
       "      <td>400</td>\n",
       "      <td>12784</td>\n",
       "      <td>20638</td>\n",
       "      <td>0</td>\n",
       "    </tr>\n",
       "    <tr>\n",
       "      <th>7795</th>\n",
       "      <td>18.664</td>\n",
       "      <td>46.07</td>\n",
       "      <td>937.508</td>\n",
       "      <td>2.25</td>\n",
       "      <td>88</td>\n",
       "      <td>400</td>\n",
       "      <td>12826</td>\n",
       "      <td>20683</td>\n",
       "      <td>0</td>\n",
       "    </tr>\n",
       "    <tr>\n",
       "      <th>7642</th>\n",
       "      <td>18.882</td>\n",
       "      <td>47.74</td>\n",
       "      <td>937.418</td>\n",
       "      <td>1.35</td>\n",
       "      <td>177</td>\n",
       "      <td>431</td>\n",
       "      <td>12764</td>\n",
       "      <td>20540</td>\n",
       "      <td>0</td>\n",
       "    </tr>\n",
       "    <tr>\n",
       "      <th>7583</th>\n",
       "      <td>26.538</td>\n",
       "      <td>39.05</td>\n",
       "      <td>937.565</td>\n",
       "      <td>2.24</td>\n",
       "      <td>57</td>\n",
       "      <td>427</td>\n",
       "      <td>12850</td>\n",
       "      <td>20728</td>\n",
       "      <td>0</td>\n",
       "    </tr>\n",
       "    <tr>\n",
       "      <th>7268</th>\n",
       "      <td>29.270</td>\n",
       "      <td>40.65</td>\n",
       "      <td>937.549</td>\n",
       "      <td>2.00</td>\n",
       "      <td>62</td>\n",
       "      <td>400</td>\n",
       "      <td>12837</td>\n",
       "      <td>20710</td>\n",
       "      <td>0</td>\n",
       "    </tr>\n",
       "  </tbody>\n",
       "</table>\n",
       "<p>18302 rows × 9 columns</p>\n",
       "</div>"
      ],
      "text/plain": [
       "       Temperature[C]  Humidity[%]  Pressure[hPa]  PM1.0  TVOC[ppb]  \\\n",
       "0              28.170        43.68        937.321   1.85        125   \n",
       "24184          19.584        49.22        938.715   1.58       1159   \n",
       "14473          24.590        53.35        938.699   1.79       1243   \n",
       "14472          24.570        53.35        938.740   1.57       1212   \n",
       "14471          12.353        51.77        938.771   1.57       1124   \n",
       "...               ...          ...            ...    ...        ...   \n",
       "7517           26.220        46.59        937.422   1.74         75   \n",
       "7795           18.664        46.07        937.508   2.25         88   \n",
       "7642           18.882        47.74        937.418   1.35        177   \n",
       "7583           26.538        39.05        937.565   2.24         57   \n",
       "7268           29.270        40.65        937.549   2.00         62   \n",
       "\n",
       "       eCO2[ppm]  Raw H2  Raw Ethanol  Fire Alarm  \n",
       "0            400   12793        20595           0  \n",
       "24184        400   12933        19435           1  \n",
       "14473        415   12906        19414           1  \n",
       "14472        405   12898        19435           1  \n",
       "14471        408   12877        19442           1  \n",
       "...          ...     ...          ...         ...  \n",
       "7517         400   12784        20638           0  \n",
       "7795         400   12826        20683           0  \n",
       "7642         431   12764        20540           0  \n",
       "7583         427   12850        20728           0  \n",
       "7268         400   12837        20710           0  \n",
       "\n",
       "[18302 rows x 9 columns]"
      ]
     },
     "execution_count": 135,
     "metadata": {},
     "output_type": "execute_result"
    }
   ],
   "source": [
    "train_set_bal_cleaned"
   ]
  },
  {
   "cell_type": "markdown",
   "metadata": {},
   "source": [
    "## 6. Dump Trainset"
   ]
  },
  {
   "cell_type": "code",
   "execution_count": 136,
   "metadata": {},
   "outputs": [],
   "source": [
    "utils.pickle_dump(train_set_bal_cleaned[config[\"predictors\"]], config[\"train_feng_set_path\"][0])\n",
    "utils.pickle_dump(train_set_bal_cleaned[config[\"label\"]], config[\"train_feng_set_path\"][1])\n",
    "\n",
    "utils.pickle_dump(valid_set[config[\"predictors\"]], config[\"valid_feng_set_path\"][0])\n",
    "utils.pickle_dump(valid_set[config[\"label\"]], config[\"valid_feng_set_path\"][1])\n",
    "\n",
    "utils.pickle_dump(test_set[config[\"predictors\"]], config[\"test_feng_set_path\"][0])\n",
    "utils.pickle_dump(test_set[config[\"label\"]], config[\"test_feng_set_path\"][1])"
   ]
  },
  {
   "cell_type": "code",
   "execution_count": null,
   "metadata": {},
   "outputs": [],
   "source": []
  }
 ],
 "metadata": {
  "kernelspec": {
   "display_name": "Python 3 (ipykernel)",
   "language": "python",
   "name": "python3"
  },
  "language_info": {
   "codemirror_mode": {
    "name": "ipython",
    "version": 3
   },
   "file_extension": ".py",
   "mimetype": "text/x-python",
   "name": "python",
   "nbconvert_exporter": "python",
   "pygments_lexer": "ipython3",
   "version": "3.9.13"
  },
  "vscode": {
   "interpreter": {
    "hash": "a72c98e1e790ca7e9680f4346f41285cd0cde3f836014d4813139e4566575d23"
   }
  }
 },
 "nbformat": 4,
 "nbformat_minor": 4
}
